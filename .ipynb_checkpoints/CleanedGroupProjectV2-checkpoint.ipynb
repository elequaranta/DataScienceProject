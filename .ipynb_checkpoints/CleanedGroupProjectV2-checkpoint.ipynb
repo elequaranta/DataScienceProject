{
 "cells": [
  {
   "cell_type": "code",
   "execution_count": 1,
   "id": "4a852031",
   "metadata": {},
   "outputs": [
    {
     "name": "stderr",
     "output_type": "stream",
     "text": [
      "C:\\Users\\User\\anaconda3\\lib\\site-packages\\pydub\\utils.py:170: RuntimeWarning: Couldn't find ffmpeg or avconv - defaulting to ffmpeg, but may not work\n",
      "  warn(\"Couldn't find ffmpeg or avconv - defaulting to ffmpeg, but may not work\", RuntimeWarning)\n",
      "C:\\Users\\User\\anaconda3\\lib\\site-packages\\paramiko\\transport.py:219: CryptographyDeprecationWarning: Blowfish has been deprecated\n",
      "  \"class\": algorithms.Blowfish,\n"
     ]
    }
   ],
   "source": [
    "import pandas as pd\n",
    "import numpy as np\n",
    "import matplotlib.pyplot as plt\n",
    "from matplotlib import colors\n",
    "import scipy.io.wavfile as wavfile\n",
    "from scipy import signal\n",
    "from scipy.signal import spectrogram\n",
    "from scipy.fftpack import fft\n",
    "from pydub import AudioSegment\n",
    "import os\n",
    "from sklearn.model_selection import train_test_split\n",
    "from sklearn.model_selection import ParameterGrid\n",
    "from sklearn.ensemble import RandomForestClassifier\n",
    "from sklearn.metrics import accuracy_score\n",
    "from sklearn.svm import SVC\n",
    "import librosa\n",
    "from scipy.stats import zscore\n"
   ]
  },
  {
   "cell_type": "code",
   "execution_count": 2,
   "id": "e1bf3495",
   "metadata": {},
   "outputs": [],
   "source": [
    "dev_path = 'dsl_data/development.csv'\n",
    "eval_path = 'dsl_data/evaluation.csv'\n"
   ]
  },
  {
   "cell_type": "code",
   "execution_count": 3,
   "id": "1a0d7879",
   "metadata": {},
   "outputs": [],
   "source": [
    "def load_dataframe(path):\n",
    "    df = pd.read_csv(path)\n",
    "    # Dataframe exploration\n",
    "    print('***** DATAFRAME INFO *****\\n')\n",
    "    print(df.info())\n",
    "    print('\\n\\n***** HEAD *****\\n')\n",
    "    print(df.head())\n",
    "    print('\\n\\n ***** POSSIBLE CLASSIFICATION OUTCOMES *****\\n')\n",
    "    #print(df.groupby(['action', 'object']).size())\n",
    "    sampleRates = list()\n",
    "    audios = list()\n",
    "    for i in range(0, df.shape[0]):\n",
    "        audio_path = df['path'].loc[i]\n",
    "        sampleRates.append(get_sample_rate(audio_path))\n",
    "        audios.append(get_audio_data(audio_path))\n",
    "    df['SampleRates'] = sampleRates\n",
    "    df['AudioData'] = audios\n",
    "    print('\\n\\n ***** SAMPLE RATES *****')\n",
    "    print(df.groupby(['SampleRates']).size())\n",
    "    \n",
    "    print('\\n\\n ***** Self-reported fluency level *****')\n",
    "    print(df.groupby(['Self-reported fluency level ']).size())\n",
    "    \n",
    "    print('\\n\\n ***** First Language spoken *****')\n",
    "    print(df.groupby(['First Language spoken']).size())\n",
    "    \n",
    "    print('\\n\\n ***** Current language used for work/school *****')\n",
    "    print(df.groupby(['Current language used for work/school']).size())\n",
    "    \n",
    "    print('\\n\\n ***** Gender *****')\n",
    "    print(df.groupby(['gender']).size())\n",
    "    print('\\n\\n ***** Age range *****')\n",
    "    print(df.groupby(['ageRange']).size())\n",
    "    return df\n",
    "\n",
    "def get_sample_rate(filepath):\n",
    "    sr, audio = wavfile.read(filepath)\n",
    "    return sr\n",
    "\n",
    "def get_audio_data(filepath):\n",
    "    sr, audio = wavfile.read(filepath)\n",
    "    return audio\n",
    "\n",
    "\n",
    "def edit_sample_rates(df, goal_sr):\n",
    "    for index, row in df.iterrows():\n",
    "    # Load the audio file\n",
    "        audio = AudioSegment.from_file(row['path'])\n",
    "    # Check if the sample rate is different from the target sample rate\n",
    "        if audio.frame_rate != goal_sr:\n",
    "            # Convert the sample rate to the target sample rate\n",
    "            audio = audio.set_frame_rate(goal_sr)\n",
    "            # get file format\n",
    "            file_format = os.path.splitext(row['path'])[1][1:]\n",
    "            # Save the converted audio\n",
    "            audio.export(row['path'], format=file_format)\n",
    "    sampleRates = list()\n",
    "    for i in range(0, df.shape[0]):\n",
    "        audio_path = df['path'].loc[i]\n",
    "        sampleRates.append(get_sample_rate(audio_path))\n",
    "    df['SampleRates'] = sampleRates\n",
    "    print(df.groupby(['SampleRates']).size())\n",
    "\n",
    "# definition of functions to represent each audio \n",
    "\n",
    "def plot_spectrogram(audio_data, sr):\n",
    "    frequencies, times, spec = spectrogram(audio_data, fs=sr)\n",
    "    plt.pcolormesh(times, frequencies, 10*np.log10(spec)) #changed the scale to dB\n",
    "    plt.colorbar()\n",
    "    plt.xlabel(\"Time (s)\")\n",
    "    plt.ylabel(\"Frequency (Hz)\")\n",
    "    plt.show()\n",
    "    return spec, len(audio)\n",
    "\n",
    "\n",
    "def plot_time_dimension(audio_data, sr):\n",
    "    audioArray = np.array(audio_data)\n",
    "    duration = len(audio) / sr\n",
    "    # Create the time axis in seconds\n",
    "    time = np.linspace(0, duration, len(audio))\n",
    "    plt.plot(time, audioArray)\n",
    "    plt.xlabel(\"Time (s)\")\n",
    "    plt.ylabel(\"Amplitude\")\n",
    "    plt.show()\n",
    "    \n",
    "def plot_freq_dimension(audio_data, sr):\n",
    "    audioArray = np.array(audio_data)\n",
    "    freqArray = np.abs(fft(audioArray))\n",
    "    decibels = 20 * np.log10(freqArray)\n",
    "    plt.figure(figsize=(10,4))\n",
    "    plt.plot(decibels)\n",
    "    plt.xlabel(\"Frequency (Hz)\")\n",
    "    plt.ylabel(\"Magnitude (dB)\")\n",
    "    plt.show()\n",
    "    \n",
    "\n",
    "def encode_categorical(df):\n",
    "    #ordinal encoding of categorical features\n",
    "    catFeatures = ['Self-reported fluency level ', 'First Language spoken', 'Current language used for work/school', 'gender', 'ageRange']\n",
    "    dicts = list()\n",
    "    dic_fluency = {'native' : 0, 'advanced' : 1, 'intermediate':2, 'basic': 3}\n",
    "    dicts.append(dic_fluency)\n",
    "    dic_first_lan = {'English (United States)': 0, 'English (Canada)': 1, 'French (Canada)' : 2, 'Spanish (Venezuela)':3, 'Telugu':4 }\n",
    "    dicts.append(dic_first_lan)\n",
    "    dic_current = {'English (United States)': 0, 'English (Canada)': 1, 'English (Australia)' : 2, 'Spanish (Venezuela)':3 }\n",
    "    dicts.append(dic_current)\n",
    "    dic_gender = {'female': 0, 'male': 1 }\n",
    "    dicts.append(dic_gender)\n",
    "    dic_age = {'22-40':0, '41-65':1, '65+': 3}\n",
    "    dicts.append(dic_age)\n",
    "    for i in range(0, len(catFeatures)):\n",
    "        dic = dicts[i]\n",
    "        feat = catFeatures[i]\n",
    "        df[feat] = df[feat].replace(dic)\n",
    "    return df"
   ]
  },
  {
   "cell_type": "code",
   "execution_count": null,
   "id": "3cec3dce",
   "metadata": {},
   "outputs": [],
   "source": []
  },
  {
   "cell_type": "code",
   "execution_count": 4,
   "id": "c5ac19ab",
   "metadata": {},
   "outputs": [
    {
     "name": "stdout",
     "output_type": "stream",
     "text": [
      "***** DATAFRAME INFO *****\n",
      "\n",
      "<class 'pandas.core.frame.DataFrame'>\n",
      "RangeIndex: 9854 entries, 0 to 9853\n",
      "Data columns (total 10 columns):\n",
      " #   Column                                 Non-Null Count  Dtype \n",
      "---  ------                                 --------------  ----- \n",
      " 0   Id                                     9854 non-null   int64 \n",
      " 1   path                                   9854 non-null   object\n",
      " 2   speakerId                              9854 non-null   object\n",
      " 3   action                                 9854 non-null   object\n",
      " 4   object                                 9854 non-null   object\n",
      " 5   Self-reported fluency level            9854 non-null   object\n",
      " 6   First Language spoken                  9854 non-null   object\n",
      " 7   Current language used for work/school  9854 non-null   object\n",
      " 8   gender                                 9854 non-null   object\n",
      " 9   ageRange                               9854 non-null   object\n",
      "dtypes: int64(1), object(9)\n",
      "memory usage: 770.0+ KB\n",
      "None\n",
      "\n",
      "\n",
      "***** HEAD *****\n",
      "\n",
      "   Id                                               path         speakerId  \\\n",
      "0   0  dsl_data/audio/speakers/2BqVo8kVB2Skwgyb/0a312...  2BqVo8kVB2Skwgyb   \n",
      "1   1  dsl_data/audio/speakers/2BqVo8kVB2Skwgyb/0ee42...  2BqVo8kVB2Skwgyb   \n",
      "2   2  dsl_data/audio/speakers/2BqVo8kVB2Skwgyb/1d9f3...  2BqVo8kVB2Skwgyb   \n",
      "3   3  dsl_data/audio/speakers/2BqVo8kVB2Skwgyb/269fc...  2BqVo8kVB2Skwgyb   \n",
      "4   4  dsl_data/audio/speakers/2BqVo8kVB2Skwgyb/5bbda...  2BqVo8kVB2Skwgyb   \n",
      "\n",
      "            action  object Self-reported fluency level   \\\n",
      "0  change language    none                     advanced   \n",
      "1         activate   music                     advanced   \n",
      "2       deactivate  lights                     advanced   \n",
      "3         increase  volume                     advanced   \n",
      "4         increase  volume                     advanced   \n",
      "\n",
      "     First Language spoken Current language used for work/school  gender  \\\n",
      "0  English (United States)               English (United States)  female   \n",
      "1  English (United States)               English (United States)  female   \n",
      "2  English (United States)               English (United States)  female   \n",
      "3  English (United States)               English (United States)  female   \n",
      "4  English (United States)               English (United States)  female   \n",
      "\n",
      "  ageRange  \n",
      "0    22-40  \n",
      "1    22-40  \n",
      "2    22-40  \n",
      "3    22-40  \n",
      "4    22-40  \n",
      "\n",
      "\n",
      " ***** POSSIBLE CLASSIFICATION OUTCOMES *****\n",
      "\n",
      "\n",
      "\n",
      " ***** SAMPLE RATES *****\n",
      "SampleRates\n",
      "16000    9854\n",
      "dtype: int64\n",
      "\n",
      "\n",
      " ***** Self-reported fluency level *****\n",
      "Self-reported fluency level \n",
      "advanced         346\n",
      "basic             56\n",
      "intermediate       8\n",
      "native          9444\n",
      "dtype: int64\n",
      "\n",
      "\n",
      " ***** First Language spoken *****\n",
      "First Language spoken\n",
      "English (Canada)              8\n",
      "English (United States)    9642\n",
      "French (Canada)             148\n",
      "Spanish (Venezuela)          35\n",
      "Telugu                       21\n",
      "dtype: int64\n",
      "\n",
      "\n",
      " ***** Current language used for work/school *****\n",
      "Current language used for work/school\n",
      "English (Australia)          65\n",
      "English (Canada)            156\n",
      "English (United States)    9598\n",
      "Spanish (Venezuela)          35\n",
      "dtype: int64\n",
      "\n",
      "\n",
      " ***** Gender *****\n",
      "gender\n",
      "female    4589\n",
      "male      5265\n",
      "dtype: int64\n",
      "\n",
      "\n",
      " ***** Age range *****\n",
      "ageRange\n",
      "22-40    7496\n",
      "41-65    2115\n",
      "65+       243\n",
      "dtype: int64\n"
     ]
    }
   ],
   "source": [
    "df = load_dataframe(dev_path)"
   ]
  },
  {
   "cell_type": "code",
   "execution_count": 5,
   "id": "d6da9ca5",
   "metadata": {},
   "outputs": [
    {
     "name": "stdout",
     "output_type": "stream",
     "text": [
      "SampleRates\n",
      "16000    9854\n",
      "dtype: int64\n"
     ]
    }
   ],
   "source": [
    "target_rate = 16000\n",
    "edit_sample_rates(df, target_rate) #bring all sr's to 16kHz"
   ]
  },
  {
   "cell_type": "code",
   "execution_count": 6,
   "id": "28325fb7",
   "metadata": {},
   "outputs": [
    {
     "data": {
      "text/html": [
       "<div>\n",
       "<style scoped>\n",
       "    .dataframe tbody tr th:only-of-type {\n",
       "        vertical-align: middle;\n",
       "    }\n",
       "\n",
       "    .dataframe tbody tr th {\n",
       "        vertical-align: top;\n",
       "    }\n",
       "\n",
       "    .dataframe thead th {\n",
       "        text-align: right;\n",
       "    }\n",
       "</style>\n",
       "<table border=\"1\" class=\"dataframe\">\n",
       "  <thead>\n",
       "    <tr style=\"text-align: right;\">\n",
       "      <th></th>\n",
       "      <th>Id</th>\n",
       "      <th>path</th>\n",
       "      <th>speakerId</th>\n",
       "      <th>action</th>\n",
       "      <th>object</th>\n",
       "      <th>Self-reported fluency level</th>\n",
       "      <th>First Language spoken</th>\n",
       "      <th>Current language used for work/school</th>\n",
       "      <th>gender</th>\n",
       "      <th>ageRange</th>\n",
       "      <th>SampleRates</th>\n",
       "      <th>AudioData</th>\n",
       "    </tr>\n",
       "  </thead>\n",
       "  <tbody>\n",
       "    <tr>\n",
       "      <th>0</th>\n",
       "      <td>0</td>\n",
       "      <td>dsl_data/audio/speakers/2BqVo8kVB2Skwgyb/0a312...</td>\n",
       "      <td>2BqVo8kVB2Skwgyb</td>\n",
       "      <td>change language</td>\n",
       "      <td>none</td>\n",
       "      <td>1</td>\n",
       "      <td>0</td>\n",
       "      <td>0</td>\n",
       "      <td>0</td>\n",
       "      <td>0</td>\n",
       "      <td>16000</td>\n",
       "      <td>[0, 0, 0, 0, 0, 0, 0, 0, 0, 0, 0, 0, 0, 0, 0, ...</td>\n",
       "    </tr>\n",
       "    <tr>\n",
       "      <th>1</th>\n",
       "      <td>1</td>\n",
       "      <td>dsl_data/audio/speakers/2BqVo8kVB2Skwgyb/0ee42...</td>\n",
       "      <td>2BqVo8kVB2Skwgyb</td>\n",
       "      <td>activate</td>\n",
       "      <td>music</td>\n",
       "      <td>1</td>\n",
       "      <td>0</td>\n",
       "      <td>0</td>\n",
       "      <td>0</td>\n",
       "      <td>0</td>\n",
       "      <td>16000</td>\n",
       "      <td>[0, 0, 0, 0, 0, 0, 0, 0, 0, 0, 0, 0, 0, 0, 0, ...</td>\n",
       "    </tr>\n",
       "    <tr>\n",
       "      <th>2</th>\n",
       "      <td>2</td>\n",
       "      <td>dsl_data/audio/speakers/2BqVo8kVB2Skwgyb/1d9f3...</td>\n",
       "      <td>2BqVo8kVB2Skwgyb</td>\n",
       "      <td>deactivate</td>\n",
       "      <td>lights</td>\n",
       "      <td>1</td>\n",
       "      <td>0</td>\n",
       "      <td>0</td>\n",
       "      <td>0</td>\n",
       "      <td>0</td>\n",
       "      <td>16000</td>\n",
       "      <td>[0, 0, 0, 0, 0, 0, 0, 0, 0, 0, 0, 0, 0, 0, 0, ...</td>\n",
       "    </tr>\n",
       "    <tr>\n",
       "      <th>3</th>\n",
       "      <td>3</td>\n",
       "      <td>dsl_data/audio/speakers/2BqVo8kVB2Skwgyb/269fc...</td>\n",
       "      <td>2BqVo8kVB2Skwgyb</td>\n",
       "      <td>increase</td>\n",
       "      <td>volume</td>\n",
       "      <td>1</td>\n",
       "      <td>0</td>\n",
       "      <td>0</td>\n",
       "      <td>0</td>\n",
       "      <td>0</td>\n",
       "      <td>16000</td>\n",
       "      <td>[0, 0, 0, 0, 0, 0, 0, 0, 0, 0, 0, 0, 0, 0, 0, ...</td>\n",
       "    </tr>\n",
       "    <tr>\n",
       "      <th>4</th>\n",
       "      <td>4</td>\n",
       "      <td>dsl_data/audio/speakers/2BqVo8kVB2Skwgyb/5bbda...</td>\n",
       "      <td>2BqVo8kVB2Skwgyb</td>\n",
       "      <td>increase</td>\n",
       "      <td>volume</td>\n",
       "      <td>1</td>\n",
       "      <td>0</td>\n",
       "      <td>0</td>\n",
       "      <td>0</td>\n",
       "      <td>0</td>\n",
       "      <td>16000</td>\n",
       "      <td>[0, 0, 0, 0, 0, 0, 0, 0, 0, 0, 0, 0, 0, 0, 0, ...</td>\n",
       "    </tr>\n",
       "    <tr>\n",
       "      <th>...</th>\n",
       "      <td>...</td>\n",
       "      <td>...</td>\n",
       "      <td>...</td>\n",
       "      <td>...</td>\n",
       "      <td>...</td>\n",
       "      <td>...</td>\n",
       "      <td>...</td>\n",
       "      <td>...</td>\n",
       "      <td>...</td>\n",
       "      <td>...</td>\n",
       "      <td>...</td>\n",
       "      <td>...</td>\n",
       "    </tr>\n",
       "    <tr>\n",
       "      <th>9849</th>\n",
       "      <td>9849</td>\n",
       "      <td>dsl_data/audio/speakers/vnljypgejkINbBAY/4fb3d...</td>\n",
       "      <td>vnljypgejkINbBAY</td>\n",
       "      <td>decrease</td>\n",
       "      <td>volume</td>\n",
       "      <td>0</td>\n",
       "      <td>0</td>\n",
       "      <td>0</td>\n",
       "      <td>1</td>\n",
       "      <td>0</td>\n",
       "      <td>16000</td>\n",
       "      <td>[315, 321, 328, 335, 340, 342, 344, 351, 351, ...</td>\n",
       "    </tr>\n",
       "    <tr>\n",
       "      <th>9850</th>\n",
       "      <td>9850</td>\n",
       "      <td>dsl_data/audio/speakers/vnljypgejkINbBAY/59e6a...</td>\n",
       "      <td>vnljypgejkINbBAY</td>\n",
       "      <td>deactivate</td>\n",
       "      <td>lights</td>\n",
       "      <td>0</td>\n",
       "      <td>0</td>\n",
       "      <td>0</td>\n",
       "      <td>1</td>\n",
       "      <td>0</td>\n",
       "      <td>16000</td>\n",
       "      <td>[320, 322, 327, 332, 334, 334, 336, 338, 343, ...</td>\n",
       "    </tr>\n",
       "    <tr>\n",
       "      <th>9851</th>\n",
       "      <td>9851</td>\n",
       "      <td>dsl_data/audio/speakers/vnljypgejkINbBAY/5c81c...</td>\n",
       "      <td>vnljypgejkINbBAY</td>\n",
       "      <td>deactivate</td>\n",
       "      <td>lights</td>\n",
       "      <td>0</td>\n",
       "      <td>0</td>\n",
       "      <td>0</td>\n",
       "      <td>1</td>\n",
       "      <td>0</td>\n",
       "      <td>16000</td>\n",
       "      <td>[49, 52, 55, 59, 61, 65, 70, 73, 76, 81, 85, 8...</td>\n",
       "    </tr>\n",
       "    <tr>\n",
       "      <th>9852</th>\n",
       "      <td>9852</td>\n",
       "      <td>dsl_data/audio/speakers/vnljypgejkINbBAY/5ef42...</td>\n",
       "      <td>vnljypgejkINbBAY</td>\n",
       "      <td>deactivate</td>\n",
       "      <td>lights</td>\n",
       "      <td>0</td>\n",
       "      <td>0</td>\n",
       "      <td>0</td>\n",
       "      <td>1</td>\n",
       "      <td>0</td>\n",
       "      <td>16000</td>\n",
       "      <td>[333, 339, 342, 344, 346, 349, 353, 355, 357, ...</td>\n",
       "    </tr>\n",
       "    <tr>\n",
       "      <th>9853</th>\n",
       "      <td>9853</td>\n",
       "      <td>dsl_data/audio/speakers/vnljypgejkINbBAY/61b7a...</td>\n",
       "      <td>vnljypgejkINbBAY</td>\n",
       "      <td>increase</td>\n",
       "      <td>volume</td>\n",
       "      <td>0</td>\n",
       "      <td>0</td>\n",
       "      <td>0</td>\n",
       "      <td>1</td>\n",
       "      <td>0</td>\n",
       "      <td>16000</td>\n",
       "      <td>[325, 331, 333, 335, 340, 342, 346, 351, 353, ...</td>\n",
       "    </tr>\n",
       "  </tbody>\n",
       "</table>\n",
       "<p>9854 rows × 12 columns</p>\n",
       "</div>"
      ],
      "text/plain": [
       "        Id                                               path  \\\n",
       "0        0  dsl_data/audio/speakers/2BqVo8kVB2Skwgyb/0a312...   \n",
       "1        1  dsl_data/audio/speakers/2BqVo8kVB2Skwgyb/0ee42...   \n",
       "2        2  dsl_data/audio/speakers/2BqVo8kVB2Skwgyb/1d9f3...   \n",
       "3        3  dsl_data/audio/speakers/2BqVo8kVB2Skwgyb/269fc...   \n",
       "4        4  dsl_data/audio/speakers/2BqVo8kVB2Skwgyb/5bbda...   \n",
       "...    ...                                                ...   \n",
       "9849  9849  dsl_data/audio/speakers/vnljypgejkINbBAY/4fb3d...   \n",
       "9850  9850  dsl_data/audio/speakers/vnljypgejkINbBAY/59e6a...   \n",
       "9851  9851  dsl_data/audio/speakers/vnljypgejkINbBAY/5c81c...   \n",
       "9852  9852  dsl_data/audio/speakers/vnljypgejkINbBAY/5ef42...   \n",
       "9853  9853  dsl_data/audio/speakers/vnljypgejkINbBAY/61b7a...   \n",
       "\n",
       "             speakerId           action  object  Self-reported fluency level   \\\n",
       "0     2BqVo8kVB2Skwgyb  change language    none                             1   \n",
       "1     2BqVo8kVB2Skwgyb         activate   music                             1   \n",
       "2     2BqVo8kVB2Skwgyb       deactivate  lights                             1   \n",
       "3     2BqVo8kVB2Skwgyb         increase  volume                             1   \n",
       "4     2BqVo8kVB2Skwgyb         increase  volume                             1   \n",
       "...                ...              ...     ...                           ...   \n",
       "9849  vnljypgejkINbBAY         decrease  volume                             0   \n",
       "9850  vnljypgejkINbBAY       deactivate  lights                             0   \n",
       "9851  vnljypgejkINbBAY       deactivate  lights                             0   \n",
       "9852  vnljypgejkINbBAY       deactivate  lights                             0   \n",
       "9853  vnljypgejkINbBAY         increase  volume                             0   \n",
       "\n",
       "      First Language spoken  Current language used for work/school  gender  \\\n",
       "0                         0                                      0       0   \n",
       "1                         0                                      0       0   \n",
       "2                         0                                      0       0   \n",
       "3                         0                                      0       0   \n",
       "4                         0                                      0       0   \n",
       "...                     ...                                    ...     ...   \n",
       "9849                      0                                      0       1   \n",
       "9850                      0                                      0       1   \n",
       "9851                      0                                      0       1   \n",
       "9852                      0                                      0       1   \n",
       "9853                      0                                      0       1   \n",
       "\n",
       "      ageRange  SampleRates                                          AudioData  \n",
       "0            0        16000  [0, 0, 0, 0, 0, 0, 0, 0, 0, 0, 0, 0, 0, 0, 0, ...  \n",
       "1            0        16000  [0, 0, 0, 0, 0, 0, 0, 0, 0, 0, 0, 0, 0, 0, 0, ...  \n",
       "2            0        16000  [0, 0, 0, 0, 0, 0, 0, 0, 0, 0, 0, 0, 0, 0, 0, ...  \n",
       "3            0        16000  [0, 0, 0, 0, 0, 0, 0, 0, 0, 0, 0, 0, 0, 0, 0, ...  \n",
       "4            0        16000  [0, 0, 0, 0, 0, 0, 0, 0, 0, 0, 0, 0, 0, 0, 0, ...  \n",
       "...        ...          ...                                                ...  \n",
       "9849         0        16000  [315, 321, 328, 335, 340, 342, 344, 351, 351, ...  \n",
       "9850         0        16000  [320, 322, 327, 332, 334, 334, 336, 338, 343, ...  \n",
       "9851         0        16000  [49, 52, 55, 59, 61, 65, 70, 73, 76, 81, 85, 8...  \n",
       "9852         0        16000  [333, 339, 342, 344, 346, 349, 353, 355, 357, ...  \n",
       "9853         0        16000  [325, 331, 333, 335, 340, 342, 346, 351, 353, ...  \n",
       "\n",
       "[9854 rows x 12 columns]"
      ]
     },
     "execution_count": 6,
     "metadata": {},
     "output_type": "execute_result"
    }
   ],
   "source": [
    "encode_categorical(df)"
   ]
  },
  {
   "cell_type": "code",
   "execution_count": null,
   "id": "64db8072",
   "metadata": {},
   "outputs": [],
   "source": [
    "\n"
   ]
  },
  {
   "cell_type": "code",
   "execution_count": 7,
   "id": "d320c1a3",
   "metadata": {},
   "outputs": [],
   "source": [
    "def plot_all_audios(df):\n",
    "    fig, ax = plt.subplots(1,1)\n",
    "    for ind in range(0, len(df)):\n",
    "        audio = df['AudioData'].loc[ind]\n",
    "        sr = df['SampleRates'].loc[ind]\n",
    "        audioArray = np.array(audio)\n",
    "        duration = len(audio) / sr\n",
    "        time = np.linspace(0, duration, len(audio))\n",
    "        ax.plot(time, audioArray)\n",
    "    ax.set_ylabel(\"Amplitude\")\n",
    "    ax.set_xlabel(\"Time [s]\")\n",
    "    plt.show()\n",
    "  "
   ]
  },
  {
   "cell_type": "code",
   "execution_count": 8,
   "id": "095c6464",
   "metadata": {},
   "outputs": [
    {
     "data": {
      "image/png": "[encoded data removed]",
      "text/plain": [
       "<Figure size 640x480 with 1 Axes>"
      ]
     },
     "metadata": {},
     "output_type": "display_data"
    }
   ],
   "source": [
    "plot_all_audios(df)\n"
   ]
  },
  {
   "cell_type": "code",
   "execution_count": 9,
   "id": "615d7b89",
   "metadata": {},
   "outputs": [],
   "source": [
    "# By normalising the amplitude of the audios it is possible \n",
    "#to lower the impact of different recording conditions:\n",
    "\n",
    "def normalise_audios(df):\n",
    "    normalised = list()\n",
    "    for idx, rec in df.iterrows():\n",
    "        normalised.append(zscore(rec['AudioData']))\n",
    "    df['AudioData'] = normalised\n",
    "    return df"
   ]
  },
  {
   "cell_type": "code",
   "execution_count": 10,
   "id": "1822078e",
   "metadata": {},
   "outputs": [],
   "source": [
    "df = normalise_audios(df)"
   ]
  },
  {
   "cell_type": "code",
   "execution_count": 11,
   "id": "bd13a0c8",
   "metadata": {},
   "outputs": [
    {
     "data": {
      "image/png": "[encoded data removed]",
      "text/plain": [
       "<Figure size 640x480 with 1 Axes>"
      ]
     },
     "metadata": {},
     "output_type": "display_data"
    }
   ],
   "source": [
    "plot_all_audios(df)"
   ]
  },
  {
   "cell_type": "code",
   "execution_count": 12,
   "id": "299ad240",
   "metadata": {},
   "outputs": [],
   "source": [
    "def plot_duration_histogram(df):\n",
    "    recList = []\n",
    "    lenList = []\n",
    "\n",
    "    for idx, row in df.iterrows():\n",
    "        rec = row['AudioData']\n",
    "        sr = row['SampleRates']\n",
    "        recList.append(rec)\n",
    "        lenList.append(len(rec)/sr)\n",
    "\n",
    "    plt.xlabel('Seconds')\n",
    "    plt.ylabel('Frequency')\n",
    "    hist_array = plt.hist(np.array(lenList), bins='auto', color='#0504aa', alpha=0.7, rwidth=1)"
   ]
  },
  {
   "cell_type": "code",
   "execution_count": 13,
   "id": "458bcfd6",
   "metadata": {},
   "outputs": [
    {
     "data": {
      "image/png": "[encoded data removed]",
      "text/plain": [
       "<Figure size 640x480 with 1 Axes>"
      ]
     },
     "metadata": {},
     "output_type": "display_data"
    }
   ],
   "source": [
    "plot_duration_histogram(df)"
   ]
  },
  {
   "cell_type": "code",
   "execution_count": 14,
   "id": "0476cdf2",
   "metadata": {},
   "outputs": [],
   "source": [
    "def standardise_length(df, seconds):\n",
    "\n",
    "    recListAdj = []\n",
    "    lenListAdj = []\n",
    "\n",
    "    for idx, row in df.iterrows():\n",
    "        rec = row['AudioData']\n",
    "        sr = row['SampleRates']\n",
    "        #rec, index = librosa.effects.trim(rec, top_db=30)\n",
    "        threshold = sr * seconds \n",
    "        if len(rec) > threshold:\n",
    "            rec = rec[:threshold]\n",
    "        elif len(rec)<threshold:\n",
    "            rec = np.pad(rec, (0,threshold-len(rec)), mode='constant', constant_values=0)\n",
    "        recListAdj.append(rec)\n",
    "        lenListAdj.append(len(rec)/sr)\n",
    "    df['AudioData'] = recListAdj\n",
    "    return df"
   ]
  },
  {
   "cell_type": "code",
   "execution_count": 53,
   "id": "73a44dbc",
   "metadata": {},
   "outputs": [],
   "source": [
    "def standardise_length_trim(df, seconds):\n",
    "\n",
    "    recListAdj = []\n",
    "    lenListAdj = []\n",
    "\n",
    "    for idx, row in df.iterrows():\n",
    "        rec = row['AudioData']\n",
    "        sr = row['SampleRates']\n",
    "        rec, index = librosa.effects.trim(rec, top_db=30)\n",
    "        threshold = sr * seconds \n",
    "        if len(rec) > threshold:\n",
    "            rec = rec[:threshold]\n",
    "        elif len(rec)<threshold:\n",
    "            rec = np.pad(rec, (0,threshold-len(rec)), mode='constant', constant_values=0)\n",
    "        recListAdj.append(rec)\n",
    "        lenListAdj.append(len(rec)/sr)\n",
    "    df['AudioData'] = recListAdj\n",
    "    return df"
   ]
  },
  {
   "cell_type": "code",
   "execution_count": 34,
   "id": "daed1318",
   "metadata": {},
   "outputs": [],
   "source": [
    "def trim_audio(df, seconds):\n",
    "\n",
    "    recListAdj = []\n",
    "    lenListAdj = []\n",
    "\n",
    "    for idx, row in df.iterrows():\n",
    "        rec = row['AudioData']\n",
    "        sr = row['SampleRates']\n",
    "        rec, index = librosa.effects.trim(rec, top_db=30)\n",
    "        threshold = sr * seconds \n",
    "        if len(rec) > threshold:\n",
    "            rec = rec[:threshold]\n",
    "        recListAdj.append(rec)\n",
    "        lenListAdj.append(len(rec)/sr)\n",
    "    df['AudioData'] = recListAdj\n",
    "    return df"
   ]
  },
  {
   "cell_type": "code",
   "execution_count": 55,
   "id": "74e86885",
   "metadata": {},
   "outputs": [
    {
     "data": {
      "image/png": "[encoded data removed]",
      "text/plain": [
       "<Figure size 640x480 with 1 Axes>"
      ]
     },
     "metadata": {},
     "output_type": "display_data"
    }
   ],
   "source": [
    "# Padding no trim\n",
    "df = standardise_length(df, 3)\n",
    "plot_duration_histogram(df)"
   ]
  },
  {
   "cell_type": "code",
   "execution_count": 54,
   "id": "d7b919cf",
   "metadata": {},
   "outputs": [
    {
     "data": {
      "image/png": "[encoded data removed]",
      "text/plain": [
       "<Figure size 640x480 with 1 Axes>"
      ]
     },
     "metadata": {},
     "output_type": "display_data"
    }
   ],
   "source": [
    "# Padding and trim\n",
    "df3 = standardise_length_trim(df, 3)\n",
    "plot_duration_histogram(df3)"
   ]
  },
  {
   "cell_type": "code",
   "execution_count": 36,
   "id": "93720e6c",
   "metadata": {},
   "outputs": [
    {
     "data": {
      "image/png": "[encoded data removed]",
      "text/plain": [
       "<Figure size 640x480 with 1 Axes>"
      ]
     },
     "metadata": {},
     "output_type": "display_data"
    }
   ],
   "source": [
    "# Trim no padding\n",
    "dfTrim = trim_audio(df, 3)\n",
    "plot_duration_histogram(dfTrim)"
   ]
  },
  {
   "cell_type": "code",
   "execution_count": 65,
   "id": "2063634b",
   "metadata": {},
   "outputs": [
    {
     "data": {
      "image/png": "[encoded data removed]",
      "text/plain": [
       "<Figure size 640x480 with 1 Axes>"
      ]
     },
     "metadata": {},
     "output_type": "display_data"
    }
   ],
   "source": [
    "plot_all_audios(df)"
   ]
  },
  {
   "cell_type": "code",
   "execution_count": 37,
   "id": "f2c709cf",
   "metadata": {},
   "outputs": [],
   "source": []
  },
  {
   "cell_type": "code",
   "execution_count": 38,
   "id": "c7729fc9",
   "metadata": {},
   "outputs": [],
   "source": [
    "# To be able to compare the different blocks of the spectrogram in a meaningful way\n",
    "# the audios should all have the same length --> padding?\n",
    "# for each audio shorter than the threshold, we add 'silence' at the end by adding \n",
    "# zeros to the audio array "
   ]
  },
  {
   "cell_type": "code",
   "execution_count": 66,
   "id": "6f1e7533",
   "metadata": {},
   "outputs": [],
   "source": [
    "def plot_split_spectrogram(audio, sr, n_blocks):\n",
    "    frequencies, times, spec = spectrogram(audio, fs=sr)\n",
    "    times = (times * 1000).astype(int) #milliseconds\n",
    "    frequencies = frequencies.astype(int)\n",
    "    fig, ax = plt.subplots(1,1)\n",
    "    plt.pcolormesh(times, frequencies, 10*np.log10(spec)) #changed the scale to dB\n",
    "    plt.colorbar()\n",
    "    time_bounds = list()\n",
    "    freq_bounds = list()\n",
    "    #n_blocks is the same vertically and horizontally\n",
    "    #starting from vertical lines to create time bins:\n",
    "    v_step = int(times[len(times)-1] / n_blocks)\n",
    "    \n",
    "    for v in range(0, times[len(times)-1], v_step):\n",
    "        ax.axvline(v, color = 'red')\n",
    "        time_bounds.append(v)\n",
    "    #and then horizontal lines to create frequency bins:\n",
    "    h_step = int(frequencies[len(frequencies)-1]/n_blocks)\n",
    "    for h in range(0, frequencies[len(frequencies)-1], h_step):\n",
    "        ax.axhline(h, color = 'red')\n",
    "        freq_bounds.append(h)\n",
    "    plt.xlabel(\"Time (ms)\")\n",
    "    plt.xlim(left=0)\n",
    "    plt.ylabel(\"Frequency (Hz)\")\n",
    "    plt.show()\n",
    "\n",
    "def split_spectrogram(audio, sr, n_blocks):\n",
    "    frequencies, times, spec = spectrogram(audio, fs=sr)\n",
    "    times = (times * 1000).astype(int) #milliseconds\n",
    "    frequencies = frequencies.astype(int)\n",
    "        \n",
    "    \n",
    "    # Split the matrix into sub-arrays of size N along the first axis (rows)\n",
    "    rows_blocks = np.array_split(spec, n_blocks, axis=0)\n",
    "    #this is a list: each element of the list is a sub-matrix obtained slicing horizontally the spectrogram\n",
    "    # into n_blocks slices\n",
    "\n",
    "    # Split the sub_matrices into sub-arrays of size NxN along the second axis (columns)\n",
    "    blocks = [ np.array_split(block, n_blocks, axis=1) for block in rows_blocks]\n",
    "    #This is, instead, a list of lists: the first element is a list containing all the blocks obtained from \n",
    "    #the first vertical slice\n",
    "\n",
    "\n",
    "    # Initialize arrays to store the mean and standard deviation of each block\n",
    "    block_means = np.zeros((n_blocks,n_blocks))\n",
    "    block_stds = np.zeros((n_blocks,n_blocks))\n",
    "\n",
    "    \n",
    "\n",
    "    # Iterate over blocks\n",
    "    for i in range(0, n_blocks):\n",
    "        for j in range(0, n_blocks):\n",
    "            # Compute mean and standard deviation of the block\n",
    "             #i is the index of the horizontal split  (indicating which column)\n",
    "            block = blocks[i][j] #j is the index of the vertical split (indicating which row)\n",
    "            mean = np.mean(block)\n",
    "            std = np.std(block)\n",
    "            minimum = np.min(block)\n",
    "            maximum = np.max(block)\n",
    "            block_means[i,j] = mean\n",
    "            block_stds[i,j] = std\n",
    "    return block_means.tolist(), block_stds.tolist(), blocks"
   ]
  },
  {
   "cell_type": "code",
   "execution_count": 67,
   "id": "128290f8",
   "metadata": {},
   "outputs": [],
   "source": [
    " avg, std_dev, blocks = split_spectrogram(df['AudioData'].loc[0], df['SampleRates'].loc[0], 7)"
   ]
  },
  {
   "cell_type": "code",
   "execution_count": 68,
   "id": "c44bea81",
   "metadata": {},
   "outputs": [
    {
     "data": {
      "text/plain": [
       "[[0.0015354873336479171,\n",
       "  0.0007327058422943973,\n",
       "  0.00033807024586390204,\n",
       "  2.757596454630018e-10,\n",
       "  0.0,\n",
       "  0.0,\n",
       "  0.0],\n",
       " [5.877106301268341e-06,\n",
       "  0.00037623418816913563,\n",
       "  5.236668809890394e-06,\n",
       "  8.817792590789885e-10,\n",
       "  0.0,\n",
       "  0.0,\n",
       "  0.0],\n",
       " [0.0004180200828974624,\n",
       "  3.591260228704568e-05,\n",
       "  3.754018862448465e-05,\n",
       "  5.665429154765104e-09,\n",
       "  0.0,\n",
       "  0.0,\n",
       "  0.0],\n",
       " [5.038768720027236e-05,\n",
       "  9.11414046140584e-06,\n",
       "  1.0525973341537195e-05,\n",
       "  4.184868941986054e-08,\n",
       "  0.0,\n",
       "  0.0,\n",
       "  0.0],\n",
       " [3.726761154301474e-05,\n",
       "  4.227371327967359e-06,\n",
       "  5.150716230666736e-06,\n",
       "  2.3843202373484145e-08,\n",
       "  0.0,\n",
       "  0.0,\n",
       "  0.0],\n",
       " [1.6438292622475263e-05,\n",
       "  1.2222253426190735e-06,\n",
       "  1.529001576881545e-06,\n",
       "  1.6518667280447193e-09,\n",
       "  0.0,\n",
       "  0.0,\n",
       "  0.0],\n",
       " [5.667409042484858e-06,\n",
       "  5.026882314622631e-07,\n",
       "  8.702464900518787e-07,\n",
       "  1.384530894683735e-09,\n",
       "  0.0,\n",
       "  0.0,\n",
       "  0.0]]"
      ]
     },
     "execution_count": 68,
     "metadata": {},
     "output_type": "execute_result"
    }
   ],
   "source": [
    "avg"
   ]
  },
  {
   "cell_type": "code",
   "execution_count": 69,
   "id": "4ed46055",
   "metadata": {},
   "outputs": [
    {
     "data": {
      "text/plain": [
       "[[0.004708645295534316,\n",
       "  0.001673676957373711,\n",
       "  0.0010361933771979059,\n",
       "  2.2594232403332512e-09,\n",
       "  0.0,\n",
       "  0.0,\n",
       "  0.0],\n",
       " [1.7945071686125354e-05,\n",
       "  0.0012431110969773611,\n",
       "  2.8036462349376026e-05,\n",
       "  9.351449454982846e-09,\n",
       "  0.0,\n",
       "  0.0,\n",
       "  0.0],\n",
       " [0.0015218133100028002,\n",
       "  0.00010426295992468413,\n",
       "  0.0001550709333545003,\n",
       "  6.743640351809547e-08,\n",
       "  0.0,\n",
       "  0.0,\n",
       "  0.0],\n",
       " [0.0001384574928403315,\n",
       "  1.9945925425433543e-05,\n",
       "  3.2409527925321176e-05,\n",
       "  3.7113896261343515e-07,\n",
       "  0.0,\n",
       "  0.0,\n",
       "  0.0],\n",
       " [0.00010035444032989864,\n",
       "  2.1363785195057494e-05,\n",
       "  1.5148908279550007e-05,\n",
       "  1.7753695747564414e-07,\n",
       "  0.0,\n",
       "  0.0,\n",
       "  0.0],\n",
       " [5.227678225996793e-05,\n",
       "  7.963207503507668e-06,\n",
       "  3.3918742256134243e-06,\n",
       "  1.1671341006863846e-08,\n",
       "  0.0,\n",
       "  0.0,\n",
       "  0.0],\n",
       " [1.6182683409087007e-05,\n",
       "  1.6200721109281529e-06,\n",
       "  1.7191023367378207e-06,\n",
       "  1.228518409613944e-08,\n",
       "  0.0,\n",
       "  0.0,\n",
       "  0.0]]"
      ]
     },
     "execution_count": 69,
     "metadata": {},
     "output_type": "execute_result"
    }
   ],
   "source": [
    "std_dev"
   ]
  },
  {
   "cell_type": "code",
   "execution_count": 70,
   "id": "9c7f11cd",
   "metadata": {},
   "outputs": [],
   "source": [
    "#adding the statistics of the blocks into the dataframe\n",
    "\n",
    "def add_stats_df(df,sr,n_blocks):\n",
    "    for i in range(0,n_blocks):\n",
    "        for j in range(0, n_blocks):\n",
    "            idx = j+n_blocks*i\n",
    "            col_name_mean = 'block_mean_'+str(idx)\n",
    "            col_name_dev = 'block_dev_'+str(idx)\n",
    "            df[col_name_mean] = ''\n",
    "            df[col_name_dev] = ''\n",
    "    all_means = list()\n",
    "    all_std_devs = list()\n",
    "    all_mins = list()\n",
    "    all_maxs = list()\n",
    "\n",
    "    for index, row in df.iterrows():\n",
    "        audio = row['AudioData']\n",
    "        meanTemp, stdTemp, blocksTemps = split_spectrogram(audio, sr, n_blocks)\n",
    "        for i in range(0,n_blocks):\n",
    "            for j in range(0, n_blocks):\n",
    "                idx = j+n_blocks*i\n",
    "                col_name_mean = 'block_mean_'+str(idx)\n",
    "                col_name_dev = 'block_dev_'+str(idx)\n",
    "                df.loc[index, col_name_mean] = meanTemp[i][j]\n",
    "                df.loc[index, col_name_dev] = stdTemp[i][j]\n",
    "        \n",
    "   \n"
   ]
  },
  {
   "cell_type": "code",
   "execution_count": 71,
   "id": "42d15d41",
   "metadata": {},
   "outputs": [],
   "source": [
    "add_stats_df(df, 16000, 5)"
   ]
  },
  {
   "cell_type": "code",
   "execution_count": 78,
   "id": "1a88f642",
   "metadata": {},
   "outputs": [],
   "source": [
    "add_stats_df(dfTrim, 16000, 5)"
   ]
  },
  {
   "cell_type": "code",
   "execution_count": 81,
   "id": "a010427d",
   "metadata": {},
   "outputs": [],
   "source": [
    "add_stats_df(df3, 16000, 5)"
   ]
  },
  {
   "cell_type": "code",
   "execution_count": 72,
   "id": "958f3e20",
   "metadata": {},
   "outputs": [
    {
     "data": {
      "text/html": [
       "<div>\n",
       "<style scoped>\n",
       "    .dataframe tbody tr th:only-of-type {\n",
       "        vertical-align: middle;\n",
       "    }\n",
       "\n",
       "    .dataframe tbody tr th {\n",
       "        vertical-align: top;\n",
       "    }\n",
       "\n",
       "    .dataframe thead th {\n",
       "        text-align: right;\n",
       "    }\n",
       "</style>\n",
       "<table border=\"1\" class=\"dataframe\">\n",
       "  <thead>\n",
       "    <tr style=\"text-align: right;\">\n",
       "      <th></th>\n",
       "      <th>Id</th>\n",
       "      <th>path</th>\n",
       "      <th>speakerId</th>\n",
       "      <th>action</th>\n",
       "      <th>object</th>\n",
       "      <th>Self-reported fluency level</th>\n",
       "      <th>First Language spoken</th>\n",
       "      <th>Current language used for work/school</th>\n",
       "      <th>gender</th>\n",
       "      <th>ageRange</th>\n",
       "      <th>...</th>\n",
       "      <th>block_mean_20</th>\n",
       "      <th>block_dev_20</th>\n",
       "      <th>block_mean_21</th>\n",
       "      <th>block_dev_21</th>\n",
       "      <th>block_mean_22</th>\n",
       "      <th>block_dev_22</th>\n",
       "      <th>block_mean_23</th>\n",
       "      <th>block_dev_23</th>\n",
       "      <th>block_mean_24</th>\n",
       "      <th>block_dev_24</th>\n",
       "    </tr>\n",
       "  </thead>\n",
       "  <tbody>\n",
       "    <tr>\n",
       "      <th>0</th>\n",
       "      <td>0</td>\n",
       "      <td>dsl_data/audio/speakers/2BqVo8kVB2Skwgyb/0a312...</td>\n",
       "      <td>2BqVo8kVB2Skwgyb</td>\n",
       "      <td>change language</td>\n",
       "      <td>none</td>\n",
       "      <td>1</td>\n",
       "      <td>0</td>\n",
       "      <td>0</td>\n",
       "      <td>0</td>\n",
       "      <td>0</td>\n",
       "      <td>...</td>\n",
       "      <td>0.000006</td>\n",
       "      <td>0.000022</td>\n",
       "      <td>0.000001</td>\n",
       "      <td>0.000002</td>\n",
       "      <td>0.0</td>\n",
       "      <td>0.000001</td>\n",
       "      <td>0.0</td>\n",
       "      <td>0.0</td>\n",
       "      <td>0.0</td>\n",
       "      <td>0.0</td>\n",
       "    </tr>\n",
       "    <tr>\n",
       "      <th>1</th>\n",
       "      <td>1</td>\n",
       "      <td>dsl_data/audio/speakers/2BqVo8kVB2Skwgyb/0ee42...</td>\n",
       "      <td>2BqVo8kVB2Skwgyb</td>\n",
       "      <td>activate</td>\n",
       "      <td>music</td>\n",
       "      <td>1</td>\n",
       "      <td>0</td>\n",
       "      <td>0</td>\n",
       "      <td>0</td>\n",
       "      <td>0</td>\n",
       "      <td>...</td>\n",
       "      <td>0.000019</td>\n",
       "      <td>0.000083</td>\n",
       "      <td>0.0</td>\n",
       "      <td>0.0</td>\n",
       "      <td>0.0</td>\n",
       "      <td>0.0</td>\n",
       "      <td>0.0</td>\n",
       "      <td>0.0</td>\n",
       "      <td>0.0</td>\n",
       "      <td>0.0</td>\n",
       "    </tr>\n",
       "    <tr>\n",
       "      <th>2</th>\n",
       "      <td>2</td>\n",
       "      <td>dsl_data/audio/speakers/2BqVo8kVB2Skwgyb/1d9f3...</td>\n",
       "      <td>2BqVo8kVB2Skwgyb</td>\n",
       "      <td>deactivate</td>\n",
       "      <td>lights</td>\n",
       "      <td>1</td>\n",
       "      <td>0</td>\n",
       "      <td>0</td>\n",
       "      <td>0</td>\n",
       "      <td>0</td>\n",
       "      <td>...</td>\n",
       "      <td>0.0</td>\n",
       "      <td>0.0</td>\n",
       "      <td>0.000015</td>\n",
       "      <td>0.00005</td>\n",
       "      <td>0.000003</td>\n",
       "      <td>0.000017</td>\n",
       "      <td>0.0</td>\n",
       "      <td>0.0</td>\n",
       "      <td>0.0</td>\n",
       "      <td>0.0</td>\n",
       "    </tr>\n",
       "    <tr>\n",
       "      <th>3</th>\n",
       "      <td>3</td>\n",
       "      <td>dsl_data/audio/speakers/2BqVo8kVB2Skwgyb/269fc...</td>\n",
       "      <td>2BqVo8kVB2Skwgyb</td>\n",
       "      <td>increase</td>\n",
       "      <td>volume</td>\n",
       "      <td>1</td>\n",
       "      <td>0</td>\n",
       "      <td>0</td>\n",
       "      <td>0</td>\n",
       "      <td>0</td>\n",
       "      <td>...</td>\n",
       "      <td>0.0</td>\n",
       "      <td>0.0</td>\n",
       "      <td>0.000002</td>\n",
       "      <td>0.00001</td>\n",
       "      <td>0.0</td>\n",
       "      <td>0.0</td>\n",
       "      <td>0.0</td>\n",
       "      <td>0.0</td>\n",
       "      <td>0.0</td>\n",
       "      <td>0.0</td>\n",
       "    </tr>\n",
       "    <tr>\n",
       "      <th>4</th>\n",
       "      <td>4</td>\n",
       "      <td>dsl_data/audio/speakers/2BqVo8kVB2Skwgyb/5bbda...</td>\n",
       "      <td>2BqVo8kVB2Skwgyb</td>\n",
       "      <td>increase</td>\n",
       "      <td>volume</td>\n",
       "      <td>1</td>\n",
       "      <td>0</td>\n",
       "      <td>0</td>\n",
       "      <td>0</td>\n",
       "      <td>0</td>\n",
       "      <td>...</td>\n",
       "      <td>0.0</td>\n",
       "      <td>0.0</td>\n",
       "      <td>0.0</td>\n",
       "      <td>0.0</td>\n",
       "      <td>0.0</td>\n",
       "      <td>0.0</td>\n",
       "      <td>0.0</td>\n",
       "      <td>0.0</td>\n",
       "      <td>0.0</td>\n",
       "      <td>0.0</td>\n",
       "    </tr>\n",
       "  </tbody>\n",
       "</table>\n",
       "<p>5 rows × 62 columns</p>\n",
       "</div>"
      ],
      "text/plain": [
       "   Id                                               path         speakerId  \\\n",
       "0   0  dsl_data/audio/speakers/2BqVo8kVB2Skwgyb/0a312...  2BqVo8kVB2Skwgyb   \n",
       "1   1  dsl_data/audio/speakers/2BqVo8kVB2Skwgyb/0ee42...  2BqVo8kVB2Skwgyb   \n",
       "2   2  dsl_data/audio/speakers/2BqVo8kVB2Skwgyb/1d9f3...  2BqVo8kVB2Skwgyb   \n",
       "3   3  dsl_data/audio/speakers/2BqVo8kVB2Skwgyb/269fc...  2BqVo8kVB2Skwgyb   \n",
       "4   4  dsl_data/audio/speakers/2BqVo8kVB2Skwgyb/5bbda...  2BqVo8kVB2Skwgyb   \n",
       "\n",
       "            action  object  Self-reported fluency level   \\\n",
       "0  change language    none                             1   \n",
       "1         activate   music                             1   \n",
       "2       deactivate  lights                             1   \n",
       "3         increase  volume                             1   \n",
       "4         increase  volume                             1   \n",
       "\n",
       "   First Language spoken  Current language used for work/school  gender  \\\n",
       "0                      0                                      0       0   \n",
       "1                      0                                      0       0   \n",
       "2                      0                                      0       0   \n",
       "3                      0                                      0       0   \n",
       "4                      0                                      0       0   \n",
       "\n",
       "   ageRange  ...  block_mean_20 block_dev_20 block_mean_21 block_dev_21  \\\n",
       "0         0  ...       0.000006     0.000022      0.000001     0.000002   \n",
       "1         0  ...       0.000019     0.000083           0.0          0.0   \n",
       "2         0  ...            0.0          0.0      0.000015      0.00005   \n",
       "3         0  ...            0.0          0.0      0.000002      0.00001   \n",
       "4         0  ...            0.0          0.0           0.0          0.0   \n",
       "\n",
       "  block_mean_22 block_dev_22 block_mean_23 block_dev_23 block_mean_24  \\\n",
       "0           0.0     0.000001           0.0          0.0           0.0   \n",
       "1           0.0          0.0           0.0          0.0           0.0   \n",
       "2      0.000003     0.000017           0.0          0.0           0.0   \n",
       "3           0.0          0.0           0.0          0.0           0.0   \n",
       "4           0.0          0.0           0.0          0.0           0.0   \n",
       "\n",
       "  block_dev_24  \n",
       "0          0.0  \n",
       "1          0.0  \n",
       "2          0.0  \n",
       "3          0.0  \n",
       "4          0.0  \n",
       "\n",
       "[5 rows x 62 columns]"
      ]
     },
     "execution_count": 72,
     "metadata": {},
     "output_type": "execute_result"
    }
   ],
   "source": [
    "df.head()"
   ]
  },
  {
   "cell_type": "code",
   "execution_count": null,
   "id": "c7b79f09",
   "metadata": {},
   "outputs": [],
   "source": []
  },
  {
   "cell_type": "code",
   "execution_count": 73,
   "id": "c8a5f5f9",
   "metadata": {},
   "outputs": [],
   "source": [
    "y = df['action'] + ' ' + df['object']\n",
    "X = df.drop(['action', 'object', 'path', 'speakerId', 'AudioData'], axis = 1)"
   ]
  },
  {
   "cell_type": "code",
   "execution_count": 79,
   "id": "f71bf540",
   "metadata": {},
   "outputs": [],
   "source": [
    "y2 = dfTrim['action'] + ' ' + dfTrim['object']\n",
    "X2 = dfTrim.drop(['action', 'object', 'path', 'speakerId', 'AudioData'], axis = 1)"
   ]
  },
  {
   "cell_type": "code",
   "execution_count": 82,
   "id": "ba23a9b0",
   "metadata": {},
   "outputs": [],
   "source": [
    "y3 = df3['action'] + ' ' + df3['object']\n",
    "X3 = df3.drop(['action', 'object', 'path', 'speakerId', 'AudioData'], axis = 1)"
   ]
  },
  {
   "cell_type": "code",
   "execution_count": 47,
   "id": "298d6ac8",
   "metadata": {},
   "outputs": [
    {
     "name": "stdout",
     "output_type": "stream",
     "text": [
      "increase volume         2614\n",
      "decrease volume         2386\n",
      "increase heat           1209\n",
      "decrease heat           1189\n",
      "change language none    1113\n",
      "activate music           791\n",
      "deactivate lights        552\n",
      "dtype: int64\n"
     ]
    }
   ],
   "source": [
    "\n",
    "\n",
    "print(y.value_counts())"
   ]
  },
  {
   "cell_type": "code",
   "execution_count": 74,
   "id": "fa2c1f63",
   "metadata": {},
   "outputs": [
    {
     "data": {
      "text/plain": [
       "0    2614\n",
       "1    2386\n",
       "2    1209\n",
       "3    1189\n",
       "4    1113\n",
       "5     791\n",
       "6     552\n",
       "dtype: int64"
      ]
     },
     "execution_count": 74,
     "metadata": {},
     "output_type": "execute_result"
    }
   ],
   "source": [
    "#encoding also the actions/objects in y \n",
    "\n",
    "label_dictionary = {'increase volume': 0, 'decrease volume': 1, 'increase heat': 2, 'decrease heat':3, 'change language none':4,'activate music':5, 'deactivate lights':6 }\n",
    "\n",
    "y = y.replace(label_dictionary)\n",
    "\n",
    "y.value_counts()"
   ]
  },
  {
   "cell_type": "code",
   "execution_count": 75,
   "id": "46e1fe2a",
   "metadata": {},
   "outputs": [],
   "source": [
    "X_train, X_test, y_train, y_test = train_test_split(X, y, test_size=0.2, random_state=31)"
   ]
  },
  {
   "cell_type": "code",
   "execution_count": 59,
   "id": "c34b5a4e",
   "metadata": {},
   "outputs": [],
   "source": [
    "X_train2, X_test2, y_train, y_test = train_test_split(X2, y, test_size=0.2, random_state=31)"
   ]
  },
  {
   "cell_type": "code",
   "execution_count": 83,
   "id": "d4724b24",
   "metadata": {},
   "outputs": [],
   "source": [
    "X_train3, X_test3, y_train, y_test = train_test_split(X3, y, test_size=0.2, random_state=31)"
   ]
  },
  {
   "cell_type": "code",
   "execution_count": 50,
   "id": "43c5268c",
   "metadata": {},
   "outputs": [
    {
     "data": {
      "text/plain": [
       "(7883, 57)"
      ]
     },
     "execution_count": 50,
     "metadata": {},
     "output_type": "execute_result"
    }
   ],
   "source": [
    "X_train.shape"
   ]
  },
  {
   "cell_type": "code",
   "execution_count": 51,
   "id": "98daf940",
   "metadata": {},
   "outputs": [
    {
     "data": {
      "text/plain": [
       "(1971, 57)"
      ]
     },
     "execution_count": 51,
     "metadata": {},
     "output_type": "execute_result"
    }
   ],
   "source": [
    "X_test.shape"
   ]
  },
  {
   "cell_type": "code",
   "execution_count": 76,
   "id": "a5ca3c57",
   "metadata": {},
   "outputs": [
    {
     "name": "stdout",
     "output_type": "stream",
     "text": [
      "10 0.3713850837138508\n",
      "20 0.37493658041603245\n",
      "30 0.3906646372399797\n",
      "40 0.4003044140030441\n",
      "50 0.40842212075088785\n",
      "60 0.4063926940639269\n",
      "70 0.3997970573313039\n",
      "80 0.4079147640791476\n",
      "90 0.4058853373921867\n",
      "100 0.4074074074074074\n"
     ]
    }
   ],
   "source": [
    "for n_estimators in range(10, 101, 10):\n",
    "    clf = RandomForestClassifier(n_estimators, max_features='sqrt')\n",
    "    clf.fit(X_train, y_train)\n",
    "    print(n_estimators, accuracy_score(y_test, clf.predict(X_test)))\n",
    "# Padding no trim"
   ]
  },
  {
   "cell_type": "code",
   "execution_count": 80,
   "id": "f1250b72",
   "metadata": {},
   "outputs": [
    {
     "name": "stdout",
     "output_type": "stream",
     "text": [
      "10 0.4530695078640284\n",
      "20 0.4698122780314561\n",
      "30 0.487062404870624\n",
      "40 0.5027904616945713\n",
      "50 0.5093860984271943\n",
      "60 0.504312531709792\n",
      "70 0.5230847285641806\n",
      "80 0.5230847285641806\n",
      "90 0.5154743784880771\n",
      "100 0.5169964485032978\n"
     ]
    }
   ],
   "source": [
    "for n_estimators in range(10, 101, 10):\n",
    "    clf = RandomForestClassifier(n_estimators, max_features='sqrt')\n",
    "    clf.fit(X_train2, y_train)\n",
    "    print(n_estimators, accuracy_score(y_test, clf.predict(X_test2)))\n",
    "# Trim no padding"
   ]
  },
  {
   "cell_type": "code",
   "execution_count": 84,
   "id": "87837b6d",
   "metadata": {},
   "outputs": [
    {
     "name": "stdout",
     "output_type": "stream",
     "text": [
      "10 0.3617453069507864\n",
      "20 0.36884830035514965\n",
      "30 0.3952308472856418\n",
      "40 0.39928970065956365\n",
      "50 0.38711314053779805\n",
      "60 0.39776763064434295\n",
      "70 0.39472349061390155\n",
      "80 0.404363267376966\n",
      "90 0.40690005073566715\n",
      "100 0.40233384069000505\n"
     ]
    }
   ],
   "source": [
    "for n_estimators in range(10, 101, 10):\n",
    "    clf = RandomForestClassifier(n_estimators, max_features='sqrt')\n",
    "    clf.fit(X_train3, y_train)\n",
    "    print(n_estimators, accuracy_score(y_test, clf.predict(X_test3)))\n",
    "# Trim and padding"
   ]
  }
 ],
 "metadata": {
  "kernelspec": {
   "display_name": "Python 3 (ipykernel)",
   "language": "python",
   "name": "python3"
  },
  "language_info": {
   "codemirror_mode": {
    "name": "ipython",
    "version": 3
   },
   "file_extension": ".py",
   "mimetype": "text/x-python",
   "name": "python",
   "nbconvert_exporter": "python",
   "pygments_lexer": "ipython3",
   "version": "3.9.13"
  }
 },
 "nbformat": 4,
 "nbformat_minor": 5
}
